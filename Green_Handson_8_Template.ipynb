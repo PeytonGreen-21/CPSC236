{
 "cells": [
  {
   "cell_type": "markdown",
   "metadata": {},
   "source": [
    "# Strings\n",
    "\n",
    "To submit this assignment in D2l, post the link to your notebook file on your GitHub account."
   ]
  },
  {
   "cell_type": "markdown",
   "metadata": {},
   "source": [
    "## 10.1 Email Creator\n",
    "Create a program that reads a file and creates a series of emails.\n",
    "\n",
    "### Console:\n",
    "```powershell\n",
    "Email Creator\n",
    "\n",
    "================================================================\n",
    "To: jbutler@gmail.com \n",
    "From: noreply@deals.com \n",
    "Subject: Deals!\n",
    "\n",
    "Hi James,\n",
    "\n",
    "We've got some great deals for you. Check our website!\n",
    "================================================================\n",
    "To:\tjosephine_darakjy@darakjy.org \n",
    "From:\tnoreply@deals.com\n",
    "Subject: Deals! \n",
    "\n",
    "Hi Josephine,\n",
    "\n",
    "We've got some great deals for you. Check our website!\n",
    "================================================================\n",
    "To:\tart@venere.org\n",
    "From:\tnoreply@deals.com \n",
    "Subject: Deals!\n",
    "\n",
    "Hi Art,\n",
    "\n",
    "We've got some great deals for you. Check our website!\n",
    "```\n",
    "\n",
    "### Specifications:\n",
    "- Use `email.csv` file:\n",
    "- Use `email_template.txt` file:\n",
    "- When the program starts, it should read the email addresses and first names from the file, merge them into the mass email template, and display the results on the console.\n",
    "- All email addresses should be converted to **lowercase**.\n",
    "- All first names should be converted to **title case**.\n",
    "- If you add names to the list of email addresses, the program should create more emails.\n",
    "- If you modify the template, the program should change the content of the email that’s created. \n",
    "\n"
   ]
  },
  {
   "cell_type": "code",
   "execution_count": 16,
   "metadata": {},
   "outputs": [
    {
     "name": "stdout",
     "output_type": "stream",
     "text": [
      "Email Creator\n",
      "\n",
      "============================================================\n",
      "To:      jbutt@gmail.com\n",
      "From:    noreply@deals.com\n",
      "Subject: Deals!\n",
      "\n",
      "Hi James,\n",
      "\n",
      "We've got some great deals for you. Check our website!\n",
      "============================================================\n",
      "To:      josephine_darakjy@darakjy.org\n",
      "From:    noreply@deals.com\n",
      "Subject: Deals!\n",
      "\n",
      "Hi Josephine,\n",
      "\n",
      "We've got some great deals for you. Check our website!\n",
      "============================================================\n",
      "To:      art@venere.org\n",
      "From:    noreply@deals.com\n",
      "Subject: Deals!\n",
      "\n",
      "Hi Art,\n",
      "\n",
      "We've got some great deals for you. Check our website!\n"
     ]
    }
   ],
   "source": [
    "import csv\n",
    "FILENAME = \"/Users/peytongreen/Library/CloudStorage/OneDrive-SlipperyRockUniversityofPA/Python Class/Ch1/email.csv\"\n",
    "contacts = []\n",
    "\n",
    "def title():\n",
    "    print(\"Email Creator\\n\")\n",
    "\n",
    "def load_data():\n",
    "    with open(FILENAME,newline=\"\") as file:\n",
    "        reader = csv.reader(file)\n",
    "        for row in reader:\n",
    "            first_name = row[0].title()\n",
    "            last_name = row[1].title()\n",
    "            email = row[2].lower()\n",
    "            contacts.append([first_name,last_name,email])\n",
    "    return contacts\n",
    "\n",
    "def load_template(template):\n",
    "    with open(template,\"r\") as text:\n",
    "        content = text.read()\n",
    "    return content\n",
    "\n",
    "def email(contacts,content):\n",
    "    for i in range(0,len(contacts)):\n",
    "        print(\"=\" * 60)\n",
    "        first_name = contacts[i][0]\n",
    "        email = contacts[i][2]\n",
    "        my_email = content.replace(\"{first_name}\",first_name).replace(\"{email}\",email)\n",
    "        print(my_email)\n",
    "\n",
    "def main():\n",
    "    title()\n",
    "    contacts = load_data()\n",
    "    content = load_template(\"email_template.txt\")\n",
    "    email(contacts,content)\n",
    "\n",
    "if __name__ == \"__main__\":\n",
    "    main()"
   ]
  },
  {
   "cell_type": "markdown",
   "metadata": {},
   "source": [
    "## 10.2 Pig Latin Translator\n",
    "\n",
    "Create a program that translates English to Pig Latin.\n",
    "\n",
    "### Console:\n",
    "```powershell\n",
    "Pig Latin Translator\n",
    "\n",
    "Enter text: Tis but a scratch. \n",
    "English:\ttis but a scratch\n",
    "Pig Latin:\tistay utbay away atchscray \n",
    "\n",
    "Continue? (y/n): y\n",
    "\n",
    "Enter text: We are the knights who say nee!\n",
    "English:\twe are the knights who say nee\n",
    "Pig Latin:\teway areway ethay ightsknay owhay aysay eenay \n",
    "\n",
    "Continue? (y/n): n\n",
    "\n",
    "Bye!\n",
    "```\n",
    "\n",
    "### Specifications:\n",
    "- Convert the English to lowercase before translating.\n",
    "- Remove the following punctuation characters before translating `! , ; : - . ?`\n",
    "- Assume that words are separated from each other by a single space.\n",
    "- If the word starts with a vowel, just add *way* to the end of the word.\n",
    "- If the word starts with a consonant, move all of the consonants that appear before the first vowel to the end of the word, then add *ay* to the end of the word.\n",
    "\n",
    "### Note:\n",
    "- There are no official rules for Pig Latin. Most people agree on how words that begin with consonants are translated, but there are many different ways to handle words that begin with vowels.\n"
   ]
  },
  {
   "cell_type": "code",
   "execution_count": 40,
   "metadata": {},
   "outputs": [
    {
     "name": "stdout",
     "output_type": "stream",
     "text": [
      "Pig Latin Translator\n"
     ]
    },
    {
     "name": "stdin",
     "output_type": "stream",
     "text": [
      "\n",
      "Enter text: Tis but a scratch.\n"
     ]
    },
    {
     "name": "stdout",
     "output_type": "stream",
     "text": [
      "English: tis but a scratch\n",
      "Pig Latin: istay utbay away atchscray\n"
     ]
    },
    {
     "name": "stdin",
     "output_type": "stream",
     "text": [
      "\n",
      "Continue? (y/n): y\n",
      "\n",
      "Enter text: We are the knights who say nee!\n"
     ]
    },
    {
     "name": "stdout",
     "output_type": "stream",
     "text": [
      "English: we are the knights who say nee\n",
      "Pig Latin: eway areway ethay ightsknay owhay aysay eenay\n"
     ]
    },
    {
     "name": "stdin",
     "output_type": "stream",
     "text": [
      "\n",
      "Continue? (y/n): n\n"
     ]
    },
    {
     "name": "stdout",
     "output_type": "stream",
     "text": [
      "\n",
      "Bye!\n"
     ]
    }
   ],
   "source": [
    "no_use = [\"!\",\",\",\";\",\":\",\"-\",\".\",\"?\"]\n",
    "\n",
    "def title():\n",
    "    print(\"Pig Latin Translator\")\n",
    "\n",
    "def user(text):\n",
    "    text = text.lower()\n",
    "    for i in no_use:\n",
    "        if i in text:\n",
    "            text = text.replace(i,\"\")\n",
    "        else:\n",
    "            pass\n",
    "    return text\n",
    "            \n",
    "def pig(text):\n",
    "    quote = text.split()\n",
    "    vowels = [\"a\",\"e\",\"i\",\"o\",\"u\",\"y\"]\n",
    "    pig_latin = []\n",
    "\n",
    "    for word in quote:\n",
    "        if word[0].lower() in vowels:\n",
    "           pig_word = word + \"way\"\n",
    "        else:\n",
    "            for k in range(len(word)):\n",
    "                if word[k] not in vowels:\n",
    "                    continue\n",
    "                else:\n",
    "                    suffix = word[:k]\n",
    "                    ending = word[k:]\n",
    "                    pig_word = ending + suffix + \"ay\"\n",
    "                    break\n",
    "        pig_latin.append(pig_word)\n",
    "    return \" \".join(pig_latin)\n",
    "    \n",
    "\n",
    "def main():\n",
    "    choice = \"y\"\n",
    "    title()\n",
    "\n",
    "    while choice.lower() == \"y\":\n",
    "        text = input(\"\\nEnter text:\")\n",
    "        my_text = user(text)\n",
    "        print(\"English:\",my_text)\n",
    "        my_quote = pig(my_text)\n",
    "        print(\"Pig Latin:\",my_quote)\n",
    "\n",
    "        choice = input(\"\\nContinue? (y/n):\")\n",
    "        if choice.lower() ==\"n\":\n",
    "            print(\"\\nBye!\")\n",
    "\n",
    "if __name__ == \"__main__\":\n",
    "    main()"
   ]
  },
  {
   "cell_type": "code",
   "execution_count": null,
   "metadata": {},
   "outputs": [],
   "source": []
  }
 ],
 "metadata": {
  "kernelspec": {
   "display_name": "Python 3 (ipykernel)",
   "language": "python",
   "name": "python3"
  },
  "language_info": {
   "codemirror_mode": {
    "name": "ipython",
    "version": 3
   },
   "file_extension": ".py",
   "mimetype": "text/x-python",
   "name": "python",
   "nbconvert_exporter": "python",
   "pygments_lexer": "ipython3",
   "version": "3.12.4"
  }
 },
 "nbformat": 4,
 "nbformat_minor": 4
}

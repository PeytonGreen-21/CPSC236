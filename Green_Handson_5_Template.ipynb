{
 "cells": [
  {
   "cell_type": "markdown",
   "metadata": {},
   "source": [
    "# File Input\n",
    "\n",
    "To submit this assignment in D2l, post the link to your notebook file on your GitHub account."
   ]
  },
  {
   "cell_type": "markdown",
   "metadata": {},
   "source": [
    "## 7.1 Pig Dice Rules\n",
    "Create a program that reads a list of rules from a file and displays them.\n",
    "\n",
    "### Console:\n",
    "```powershell\n",
    "Pig Dice Rules:\n",
    "*\tSee how many turns it takes you to get to 20.\n",
    "*\tTurn ends when player rolls a 1 or chooses to hold.\n",
    "*\tIf you roll a 1, you lose all points earned during the turn.\n",
    "*\tIf you hold, you save all points earned during the turn.\n",
    "```\n",
    "\n",
    "### Specifications:\n",
    "- Use the attached text file named `pig_dice_rules.txt` in the corresponding Directory.\n",
    "- Your program should read the text file and display it on the console.\n"
   ]
  },
  {
   "cell_type": "code",
   "execution_count": 1,
   "metadata": {},
   "outputs": [
    {
     "name": "stdout",
     "output_type": "stream",
     "text": [
      "Pig Dice Rules:\n",
      "* See how many turns it takes you to get to 20.\n",
      "* Turn ends when player rolls a 1 or chooses to hold.\n",
      "* If you roll a 1, you lose all points earned during the turn.\n",
      "* If you hold, you save all points earned during the turn.\n"
     ]
    }
   ],
   "source": [
    "f = open(\"pig_dice_rules.txt\",\"r\")\n",
    "print(f.read())"
   ]
  },
  {
   "cell_type": "markdown",
   "metadata": {},
   "source": [
    "## 7.2 Wizard Inventory\n",
    "Create a program that keeps track of the items that a wizard can carry.\n",
    "\n",
    "### Console:\n",
    "```powershell\n",
    "The Wizard Inventroy Program\n",
    "\n",
    "COMMAND MENU\n",
    "walk - Walk down the path \n",
    "show - Show all items \n",
    "drop - Drop an item\n",
    "exit - Exit program\n",
    "\n",
    "Command: walk\n",
    "While walking down a path, you see a scroll of uncursing. \n",
    "Do you want to grab it? (y/n): y\n",
    "You picked up a scroll of uncursing.\n",
    "\n",
    "Command: walk\n",
    "While walking down a path, you see an unknown potion. \n",
    "Do you want to grab it? (y/n): y\n",
    "You can't carry any more items. Drop something first.\n",
    "\n",
    "Command: show\n",
    "1.\ta wooden staff\n",
    "2.\ta scroll of invisibility\n",
    "3.\ta crossbow\n",
    "4.\ta scroll of uncursing\n",
    "\n",
    "Command: drop Number: 3\n",
    "You dropped a crossbow.\n",
    "\n",
    "Command: exit \n",
    "Bye!\n",
    "```\n",
    "\n",
    "### Specifications:\n",
    "- Use the attached text file named `wizard_all_items.txt` that contains a list of all the items that a wizard can carry. (in the corresponding directory)\n",
    "- When the user selects the walk command, the program should read the items from the file, randomly pick one, and give the user the option to grab it.\n",
    "- Your program should create another file that stores the items that the wizard is carrying (`wizard_inventory.txt`). Make sure to update this file every time the user grabs or drops an item.\n",
    "- The wizard can only carry **four** items at a time.\n",
    "- For the drop command, display an error message if the user enters an invalid number for the item.\n",
    "\n"
   ]
  },
  {
   "cell_type": "code",
   "execution_count": 7,
   "metadata": {},
   "outputs": [
    {
     "name": "stdout",
     "output_type": "stream",
     "text": [
      "The Wizard Inventory Program\n",
      "\n",
      "COMMAND MENU\n",
      "walk - Walk down the path\n",
      "show - Show all items\n",
      "drop - Drop an item\n",
      "exit - Exit program\n"
     ]
    },
    {
     "name": "stdin",
     "output_type": "stream",
     "text": [
      "\n",
      "Command: walk\n"
     ]
    },
    {
     "name": "stdout",
     "output_type": "stream",
     "text": [
      "While walking down a path, you see some elven bread.\n"
     ]
    },
    {
     "name": "stdin",
     "output_type": "stream",
     "text": [
      "Do you want to grab it? (y/n): y\n"
     ]
    },
    {
     "name": "stdout",
     "output_type": "stream",
     "text": [
      "You picked up some elven bread.\n"
     ]
    },
    {
     "name": "stdin",
     "output_type": "stream",
     "text": [
      "\n",
      "Command: walk\n"
     ]
    },
    {
     "name": "stdout",
     "output_type": "stream",
     "text": [
      "While walking down a path, you see a wooden staff.\n"
     ]
    },
    {
     "name": "stdin",
     "output_type": "stream",
     "text": [
      "Do you want to grab it? (y/n): y\n"
     ]
    },
    {
     "name": "stdout",
     "output_type": "stream",
     "text": [
      "You picked up a wooden staff.\n"
     ]
    },
    {
     "name": "stdin",
     "output_type": "stream",
     "text": [
      "\n",
      "Command: walk\n"
     ]
    },
    {
     "name": "stdout",
     "output_type": "stream",
     "text": [
      "While walking down a path, you see a scroll of uncursing.\n"
     ]
    },
    {
     "name": "stdin",
     "output_type": "stream",
     "text": [
      "Do you want to grab it? (y/n): y\n"
     ]
    },
    {
     "name": "stdout",
     "output_type": "stream",
     "text": [
      "You picked up a scroll of uncursing.\n"
     ]
    },
    {
     "name": "stdin",
     "output_type": "stream",
     "text": [
      "\n",
      "Command: walk\n"
     ]
    },
    {
     "name": "stdout",
     "output_type": "stream",
     "text": [
      "While walking down a path, you see an unknown potion.\n"
     ]
    },
    {
     "name": "stdin",
     "output_type": "stream",
     "text": [
      "Do you want to grab it? (y/n): y\n"
     ]
    },
    {
     "name": "stdout",
     "output_type": "stream",
     "text": [
      "You picked up an unknown potion.\n"
     ]
    },
    {
     "name": "stdin",
     "output_type": "stream",
     "text": [
      "\n",
      "Command: walk\n"
     ]
    },
    {
     "name": "stdout",
     "output_type": "stream",
     "text": [
      "While walking down a path, you see a scroll of uncursing.\n"
     ]
    },
    {
     "name": "stdin",
     "output_type": "stream",
     "text": [
      "Do you want to grab it? (y/n): y\n"
     ]
    },
    {
     "name": "stdout",
     "output_type": "stream",
     "text": [
      "You can't carry any more items. Drop something first.\n"
     ]
    },
    {
     "name": "stdin",
     "output_type": "stream",
     "text": [
      "\n",
      "Command: show\n"
     ]
    },
    {
     "name": "stdout",
     "output_type": "stream",
     "text": [
      "1. some elven bread\n",
      "2. a wooden staff\n",
      "3. a scroll of uncursing\n",
      "4. an unknown potion\n"
     ]
    },
    {
     "name": "stdin",
     "output_type": "stream",
     "text": [
      "\n",
      "Command: drop\n",
      "Drop number: 2\n"
     ]
    },
    {
     "name": "stdout",
     "output_type": "stream",
     "text": [
      "You dropped a wooden staff.\n"
     ]
    },
    {
     "name": "stdin",
     "output_type": "stream",
     "text": [
      "\n",
      "Command: show\n"
     ]
    },
    {
     "name": "stdout",
     "output_type": "stream",
     "text": [
      "1. some elven bread\n",
      "2. a scroll of uncursing\n",
      "3. an unknown potion\n"
     ]
    },
    {
     "name": "stdin",
     "output_type": "stream",
     "text": [
      "\n",
      "Command: exit\n"
     ]
    },
    {
     "name": "stdout",
     "output_type": "stream",
     "text": [
      "Bye!\n"
     ]
    }
   ],
   "source": [
    "import random\n",
    "my_items = []\n",
    "items = []\n",
    "\n",
    "def title():\n",
    "    print(\"The Wizard Inventory Program\\n\")\n",
    "\n",
    "def menu():\n",
    "    print(\"COMMAND MENU\")\n",
    "    print(\"walk - Walk down the path\")\n",
    "    print(\"show - Show all items\")\n",
    "    print(\"drop - Drop an item\")\n",
    "    print(\"exit - Exit program\")\n",
    "\n",
    "def walk():\n",
    "    with open(\"wizard_all_items.txt\",\"r\") as inv:\n",
    "        for line in inv:\n",
    "            line = line.replace(\"\\n\", \"\")\n",
    "            items.append(line)\n",
    "\n",
    "    new_item = random.choice(items)\n",
    "    print(\"While walking down a path, you see \" + new_item + \".\")\n",
    "\n",
    "    choice = input(\"Do you want to grab it? (y/n):\")\n",
    "\n",
    "    if len(my_items) == 4 and choice.lower() == \"y\":\n",
    "        print(\"You can't carry any more items. Drop something first.\")\n",
    "    elif len(my_items) < 4 and choice.lower() == \"y\":\n",
    "        my_items.append(new_item)\n",
    "        with open(\"wizard_inventory.txt\", \"w\") as file:\n",
    "            for m in my_items:\n",
    "                file.write(m + \"\\n\")\n",
    "        print(\"You picked up \" + new_item + \".\")\n",
    "    elif choice.lower() == \"n\":\n",
    "        pass\n",
    "\n",
    "def show():\n",
    "    for i in range(1,len(my_items)+1):\n",
    "        print(str(i) + \". \" + my_items[i-1])\n",
    "\n",
    "def drop():\n",
    "    drop_num = int(input(\"Drop number:\"))\n",
    "\n",
    "    if drop_num in range(1,len(my_items)+1):\n",
    "        print(\"You dropped \" + my_items[drop_num -1] + \".\")\n",
    "        my_items.pop(drop_num -1)\n",
    "        with open(\"wizard_inventory.txt\", \"w\") as file:\n",
    "            for m in my_items:\n",
    "                file.write(m + \"\\n\")       \n",
    "    else:\n",
    "        print(\"Invalid number.\")\n",
    "\n",
    "def exit():\n",
    "    print(\"Bye!\")\n",
    "\n",
    "def main():\n",
    "    title()\n",
    "    menu()\n",
    "\n",
    "    while True:\n",
    "        comm = input(\"\\nCommand:\")\n",
    "        if comm == \"walk\":\n",
    "            walk()\n",
    "        elif comm == \"show\":\n",
    "            show()\n",
    "        elif comm == \"drop\":\n",
    "            drop() \n",
    "        elif comm == \"exit\":\n",
    "            exit()\n",
    "            break\n",
    "\n",
    "if __name__ == \"__main__\":\n",
    "    main()"
   ]
  },
  {
   "cell_type": "markdown",
   "metadata": {},
   "source": [
    "## 7.3 Monthly Sales\n",
    "Create a program that reads the sales for 12 months from a file and calculates the total yearly sales as well as the average monthly sales. In addition, this program should let the user edit the sales for any month.\n",
    "\n",
    "### Console:\n",
    "```powershell\n",
    "Monthly Sales program\n",
    "\n",
    "COMMAND MENU\n",
    "monthly - View monthly sales \n",
    "yearly\t- View yearly sumary \n",
    "edit\t- Edit sales for a month \n",
    "exit\t- Exit program\n",
    "\n",
    "Command: monthly \n",
    "Jan - 14317\n",
    "Feb - 3903\n",
    "Mar - 1073\n",
    "Apr - 3463\n",
    "May - 2429\n",
    "Jun - 4324\n",
    "Jul - 9762\n",
    "Aug - 15578\n",
    "Sep - 2437\n",
    "Oct - 6735\n",
    "Nov - 88\n",
    "Dec - 2497\n",
    "\n",
    "Command: yearly\n",
    "Yearly total:\t66606\n",
    "Monthly average:\t5550.5\n",
    "\n",
    "Command: edit\n",
    "Three-letter Month: Nov Sales Amount: 8854\n",
    "Sales amount for Nov was modified.\n",
    "\n",
    "Command: exit Bye!\n",
    "```\n",
    "\n",
    "### Specifications:\n",
    "- Use the attached text file named CSV file named `monthly_sales.csv` that contains the month and sales data shown above.\n",
    "- For the edit command, display an error message if the user doesn’t enter a valid three-letter abbreviation for the month.\n",
    "- When the user edits the sales amount for a month, the data should be saved to the CSV file immediately. That way, no data is lost, even if the program crashes later.\n",
    "- Round the results of the monthly average to a maximum of 2 decimal digits."
   ]
  },
  {
   "cell_type": "code",
   "execution_count": 5,
   "metadata": {},
   "outputs": [
    {
     "name": "stdout",
     "output_type": "stream",
     "text": [
      "Monthly Sales Program\n",
      "\n",
      "COMMAND MENU\n",
      "monthly - View monthly sales\n",
      "yearly\t- View yearly summary\n",
      "edit\t- Edit sales for a month\n",
      "exit\t- Exit program\n"
     ]
    },
    {
     "name": "stdin",
     "output_type": "stream",
     "text": [
      "\n",
      "Command: monthly\n"
     ]
    },
    {
     "name": "stdout",
     "output_type": "stream",
     "text": [
      "Jan - 14317\n",
      "Feb - 3903\n",
      "Mar - 1073\n",
      "Apr - 3463\n",
      "May - 2429\n",
      "Jun - 4324\n",
      "Jul - 9762\n",
      "Aug - 15578\n",
      "Sep - 2437\n",
      "Oct - 6735\n",
      "Nov - 88\n",
      "Dec - 2497\n"
     ]
    },
    {
     "name": "stdin",
     "output_type": "stream",
     "text": [
      "\n",
      "Command: yearly\n"
     ]
    },
    {
     "name": "stdout",
     "output_type": "stream",
     "text": [
      "Yearly total: 66606\n",
      "Monthly average: 5550.5\n"
     ]
    },
    {
     "name": "stdin",
     "output_type": "stream",
     "text": [
      "\n",
      "Command: edit\n",
      "Three-letter month: Nov\n",
      "Sales Amount: 8854\n"
     ]
    },
    {
     "name": "stdout",
     "output_type": "stream",
     "text": [
      "Sales amount for Nov was modified.\n"
     ]
    },
    {
     "name": "stdin",
     "output_type": "stream",
     "text": [
      "\n",
      "Command: monthly\n"
     ]
    },
    {
     "name": "stdout",
     "output_type": "stream",
     "text": [
      "Jan - 14317\n",
      "Feb - 3903\n",
      "Mar - 1073\n",
      "Apr - 3463\n",
      "May - 2429\n",
      "Jun - 4324\n",
      "Jul - 9762\n",
      "Aug - 15578\n",
      "Sep - 2437\n",
      "Oct - 6735\n",
      "Nov - 8854\n",
      "Dec - 2497\n"
     ]
    },
    {
     "name": "stdin",
     "output_type": "stream",
     "text": [
      "\n",
      "Command: exit\n"
     ]
    },
    {
     "name": "stdout",
     "output_type": "stream",
     "text": [
      "Bye!\n"
     ]
    }
   ],
   "source": [
    "import csv\n",
    "FILENAME = \"/Users/peytongreen/Library/CloudStorage/OneDrive-SlipperyRockUniversityofPA/Python Class/Ch1/monthly_sales.csv\"\n",
    "\n",
    "def title():\n",
    "    print(\"Monthly Sales Program\\n\")\n",
    "\n",
    "def menu():\n",
    "    print(\"COMMAND MENU\")\n",
    "    print(\"monthly - View monthly sales\")\n",
    "    print(\"yearly\t- View yearly summary\")\n",
    "    print(\"edit\t- Edit sales for a month\")\n",
    "    print(\"exit\t- Exit program\")\n",
    "\n",
    "def monthly():\n",
    "    with open(FILENAME, newline=\"\") as file:\n",
    "        reader = csv.reader(file)\n",
    "        for row in reader:\n",
    "            print(row[0] + \" - \" + str(row[1]))\n",
    "\n",
    "def yearly():\n",
    "    with open(FILENAME, newline=\"\") as file:\n",
    "        reader = csv.reader(file)\n",
    "        y_total = 0\n",
    "        for row in reader:\n",
    "            y_total += int(row[1])\n",
    "\n",
    "        avg = y_total / 12\n",
    "\n",
    "        print(\"Yearly total: \" + str(y_total))\n",
    "        print(\"Monthly average: \" + str(round(avg,2)))\n",
    "\n",
    "def edit():\n",
    "    month = input(\"Three-letter month:\")\n",
    "    amt = input(\"Sales Amount:\")\n",
    "\n",
    "    with open(FILENAME, newline=\"\") as file:\n",
    "        reader = csv.reader(file)\n",
    "        rows = []\n",
    "        valid = False\n",
    "        \n",
    "        for row in reader:\n",
    "            if  row[0] == month:\n",
    "                row[1] = amt\n",
    "                valid = True\n",
    "                print(\"Sales amount for\",month, \"was modified.\")\n",
    "            rows.append(row)\n",
    "                \n",
    "        if not valid:\n",
    "                print(\"Invalid input.\")\n",
    "            \n",
    "    with open(FILENAME, \"w\", newline=\"\") as file:\n",
    "        writer = csv.writer(file)\n",
    "        writer.writerows(rows)\n",
    "        \n",
    "def exit():\n",
    "    print(\"Bye!\")\n",
    "\n",
    "def main():\n",
    "    title()\n",
    "    menu()\n",
    "\n",
    "    while True:\n",
    "        comm = input(\"\\nCommand:\")\n",
    "        if comm == \"monthly\":\n",
    "            monthly()\n",
    "        elif comm == \"yearly\":\n",
    "            yearly()\n",
    "        elif comm == \"edit\":\n",
    "            edit()\n",
    "        elif comm == \"exit\":\n",
    "            exit()\n",
    "            break\n",
    "    \n",
    "if __name__ == \"__main__\":\n",
    "    main()"
   ]
  },
  {
   "cell_type": "code",
   "execution_count": null,
   "metadata": {},
   "outputs": [],
   "source": []
  }
 ],
 "metadata": {
  "kernelspec": {
   "display_name": "Python 3 (ipykernel)",
   "language": "python",
   "name": "python3"
  },
  "language_info": {
   "codemirror_mode": {
    "name": "ipython",
    "version": 3
   },
   "file_extension": ".py",
   "mimetype": "text/x-python",
   "name": "python",
   "nbconvert_exporter": "python",
   "pygments_lexer": "ipython3",
   "version": "3.12.4"
  }
 },
 "nbformat": 4,
 "nbformat_minor": 4
}

{
 "cells": [
  {
   "cell_type": "markdown",
   "metadata": {},
   "source": [
    "# Dictionaries\n",
    "\n",
    "To submit this assignment in D2l, post the link to your notebook file on your GitHub account."
   ]
  },
  {
   "cell_type": "markdown",
   "metadata": {},
   "source": [
    "## 12.1 Champion Counter\n",
    "Create a program that reads a text file that contains a list of FIFA World Cup champions and determines the country that has won the most championships.\n",
    "\n",
    "### Console:\n",
    "```powershell\n",
    "Country\t        Wins\tYears\t\n",
    "=======\t        ====\t=====\t\n",
    "Argentina       2       1978, 1986\n",
    "Brazil\t        5       1958, 1962, 1970, 1994, 2002\n",
    "England\t        1       1966\t\t\n",
    "France\t        1       1998\t\t\n",
    "Germany\t        4       1954, 1974, 1990, 2014\n",
    "Italy\t        4       1934, 1938, 1982, 2006\n",
    "Spain\t        1       2010\n",
    "Uruguay\t        2       1930, 1950\n",
    "```\n",
    "\n",
    "### Specifications:\n",
    "- Use the attached text file named `world_cup_champions.txt` that contains data like this: \n",
    "```powershell\n",
    "Year,Country,Coach,Captain \n",
    "1930,Uruguay,Alberto Suppici,José Nasazzi \n",
    "1934,Italy,Vittorio Pozzo,Gianpiero Combi \n",
    "1938,Italy,Vittorio Pozzo,Giuseppe Meazza\n",
    "...\n",
    "```\n",
    "- When the program starts, it should read the text file and use a dictionary to store the required data using the name of each country that has won the World Cup as the key.\n",
    "- The program should compile the data shown above and display the countries alphabetically.\n",
    "\n"
   ]
  },
  {
   "cell_type": "code",
   "execution_count": 56,
   "metadata": {},
   "outputs": [
    {
     "name": "stdout",
     "output_type": "stream",
     "text": [
      "Country \tWins\t \tYears\n",
      "======= \t====\t \t=====\n",
      "Argentina \t\t 2 \t 1978, 1986\n",
      "Brazil \t\t 5 \t 1958, 1962, 1970, 1994, 2002\n",
      "Country \t\t 1 \t Year\n",
      "England \t\t 1 \t 1966\n",
      "France \t\t 1 \t 1998\n",
      "Germany \t\t 4 \t 1954, 1974, 1990, 2014\n",
      "Italy \t\t 4 \t 1934, 1938, 1982, 2006\n",
      "Spain \t\t 1 \t 2010\n",
      "Uruguay \t\t 2 \t 1930, 1950\n"
     ]
    }
   ],
   "source": [
    "my_list = []\n",
    "world_cup = {}\n",
    "\n",
    "def read():\n",
    "    with open(\"world_cup_champions.txt\",\"r\") as cup:\n",
    "        for line in cup:\n",
    "            line = line.replace(\"\\n\",\"\")\n",
    "            my_list.append(line)\n",
    "\n",
    "def make_dict():\n",
    "    global world_cup\n",
    "    for line in my_list:\n",
    "        data = line.split(\",\")\n",
    "        year = data[0]\n",
    "        country = data[1]\n",
    "\n",
    "        if country in world_cup:\n",
    "            world_cup[country].append(year)\n",
    "        else:\n",
    "            world_cup[country] = [year]\n",
    "\n",
    "def win_count():\n",
    "    global country_wins\n",
    "    country_wins = {}\n",
    "    for country, years in world_cup.items():\n",
    "        country_wins[country] = len(years)\n",
    "        \n",
    "def display():\n",
    "    sorted_countries = sorted(country_wins.items())\n",
    "    print(\"Country \\tWins\\t \\tYears\")\n",
    "    print(\"======= \\t====\\t \\t=====\")\n",
    "\n",
    "    for country, win_count in sorted_countries:\n",
    "        years = \", \".join(world_cup[country])\n",
    "        print(country,\"\\t\\t\",win_count,\"\\t\", years)\n",
    "\n",
    "def main():\n",
    "    read()\n",
    "    make_dict()\n",
    "    win_count()\n",
    "    display()\n",
    "\n",
    "if __name__ == \"__main__\":\n",
    "    main()"
   ]
  },
  {
   "cell_type": "markdown",
   "metadata": {},
   "source": [
    "## 12.2 Monthly Sales\n",
    "Create a program that allows you to view and edit the sales amounts for each month of the current year.\n",
    "\n",
    "### Console:\n",
    "```powershell\n",
    "Monthly Sales program\n",
    "\n",
    "COMMAND MENU\n",
    "view\t- View sales for specified month \n",
    "edit\t- Edit sales for specified month \n",
    "totals - View sales summary for year \n",
    "exit\t- Exit program\n",
    "\n",
    "Command: view\n",
    "Three-letter Month: jan\n",
    "Sales amount for Jan is 14,317.00.\n",
    "\n",
    "Command: edit\n",
    "Three-letter Month: jan \n",
    "Sales Amount: 15293\n",
    "Sales amount for Jan is 15,293.00.\n",
    "\n",
    "Command: totals\n",
    "Yearly total: 67,855.00\n",
    "Monthly average: 5,654.58\n",
    "\n",
    "Command: view\n",
    "Three-letter Month: july \n",
    "Invalid three-letter month.\n",
    "\n",
    "Command: exit Bye!\n",
    "```\n",
    "\n",
    "### Specifications:\n",
    "- Use the attached text file named `monthly_sales.txt` that consists of rows that contain three-letter abbreviations for the month and the monthly sales.\n",
    "- The program should read the file and store the sales data for each month in a dictionary with the month abbreviation as the key for each item.\n",
    "- Whenever the sales data is edited, the program should write the changed data to the text file.\n",
    "\n",
    "\n"
   ]
  },
  {
   "cell_type": "code",
   "execution_count": 27,
   "metadata": {},
   "outputs": [
    {
     "name": "stdout",
     "output_type": "stream",
     "text": [
      "Monthly Sales program\n",
      "\n",
      "COMMAND MENU\n",
      "view    - View sales for specified month\n",
      "edit    - Edit sales for specified month\n",
      "totals  - View sales summary for year\n",
      "exit    - Exit program\n"
     ]
    },
    {
     "name": "stdin",
     "output_type": "stream",
     "text": [
      "\n",
      "Command:  view\n",
      "Three-letter Month:  jan\n"
     ]
    },
    {
     "name": "stdout",
     "output_type": "stream",
     "text": [
      "Sales amount for Jan is 14317.0 .\n"
     ]
    },
    {
     "name": "stdin",
     "output_type": "stream",
     "text": [
      "\n",
      "Command:  edit\n",
      "Three-letter Month:  aug\n",
      "Sales Amount:  345\n"
     ]
    },
    {
     "name": "stdout",
     "output_type": "stream",
     "text": [
      "Sales amount for Aug was modified.\n"
     ]
    },
    {
     "name": "stdin",
     "output_type": "stream",
     "text": [
      "\n",
      "Command:  totals\n"
     ]
    },
    {
     "name": "stdout",
     "output_type": "stream",
     "text": [
      "Yearly total: 51646.0\n",
      "Monthly average: 4303.83\n"
     ]
    },
    {
     "name": "stdin",
     "output_type": "stream",
     "text": [
      "\n",
      "Command:  exit\n"
     ]
    },
    {
     "name": "stdout",
     "output_type": "stream",
     "text": [
      "Bye!\n"
     ]
    }
   ],
   "source": [
    "FILENAME = \"/Users/peytongreen/Library/CloudStorage/OneDrive-SlipperyRockUniversityofPA/Python Class/Ch1/monthly_sales.txt\"\n",
    "\n",
    "def title():\n",
    "    print(\"Monthly Sales program\\n\")\n",
    "\n",
    "def menu():\n",
    "    print(\"COMMAND MENU\")\n",
    "    print(\"view    - View sales for specified month\")\n",
    "    print(\"edit    - Edit sales for specified month\")\n",
    "    print(\"totals  - View sales summary for year\")\n",
    "    print(\"exit    - Exit program\")\n",
    "\n",
    "def load_sales():\n",
    "    sales_dict = {}\n",
    "    with open(FILENAME, \"r\") as file:\n",
    "        for line in file:\n",
    "            month, sales = line.strip().split(\"\\t\")\n",
    "            sales_dict[month] = float(sales)\n",
    "    return sales_dict\n",
    "\n",
    "def view_sales(sales_dict):\n",
    "    month = input(\"Three-letter Month: \").capitalize()\n",
    "    if month in sales_dict:\n",
    "        print(\"Sales amount for\", month, \"is\",sales_dict[month],\".\")\n",
    "    else:\n",
    "        print(\"Invalid three-letter month.\")\n",
    "\n",
    "def edit_sales(sales_dict):\n",
    "    month = input(\"Three-letter Month: \").capitalize()\n",
    "    if month in sales_dict:\n",
    "        amt = input(\"Sales Amount: \")\n",
    "        try:\n",
    "            amt = float(amt)\n",
    "        except ValueError:\n",
    "            print(\"Invalid sales amount. Please enter a valid number.\")\n",
    "            return\n",
    "\n",
    "        sales_dict[month] = amt\n",
    "        print(\"Sales amount for\" , month,\"was modified.\")\n",
    "        \n",
    "        with open(FILENAME, \"w\") as file:\n",
    "            for month, sales in sales_dict.items():\n",
    "                file.write(f\"{month}\\t{sales}\\n\")\n",
    "    else:\n",
    "        print(\"Invalid three-letter month.\")\n",
    "\n",
    "def totals(sales_dict):\n",
    "    total_sales = sum(sales_dict.values())\n",
    "    avg = total_sales / len(sales_dict) if sales_dict else 0\n",
    "    print(\"Yearly total:\",total_sales)\n",
    "    print(\"Monthly average:\", round(avg,2))\n",
    "\n",
    "def exit_program():\n",
    "    print(\"Bye!\")\n",
    "\n",
    "def main():\n",
    "    title()\n",
    "    menu()\n",
    "\n",
    "    sales_dict = load_sales()\n",
    "\n",
    "    while True:\n",
    "        comm = input(\"\\nCommand: \").lower()\n",
    "        if comm == \"view\":\n",
    "            view_sales(sales_dict)\n",
    "        elif comm == \"edit\":\n",
    "            edit_sales(sales_dict)\n",
    "        elif comm == \"totals\":\n",
    "            totals(sales_dict)\n",
    "        elif comm == \"exit\":\n",
    "            exit_program()\n",
    "            break\n",
    "        else:\n",
    "            print(\"Invalid command. Please try again.\")\n",
    "\n",
    "if __name__ == \"__main__\":\n",
    "    main()\n"
   ]
  },
  {
   "cell_type": "code",
   "execution_count": null,
   "metadata": {},
   "outputs": [],
   "source": []
  }
 ],
 "metadata": {
  "kernelspec": {
   "display_name": "Python 3 (ipykernel)",
   "language": "python",
   "name": "python3"
  },
  "language_info": {
   "codemirror_mode": {
    "name": "ipython",
    "version": 3
   },
   "file_extension": ".py",
   "mimetype": "text/x-python",
   "name": "python",
   "nbconvert_exporter": "python",
   "pygments_lexer": "ipython3",
   "version": "3.12.4"
  }
 },
 "nbformat": 4,
 "nbformat_minor": 4
}

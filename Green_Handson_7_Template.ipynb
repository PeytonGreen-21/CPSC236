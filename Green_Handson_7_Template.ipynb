{
 "cells": [
  {
   "cell_type": "markdown",
   "metadata": {},
   "source": [
    "# Exceptions\n",
    "\n",
    "To submit this assignment in D2l, post the link to your notebook file on your GitHub account."
   ]
  },
  {
   "cell_type": "markdown",
   "metadata": {},
   "source": [
    "## 8.1 Tip Calculator\n",
    "Add exception handling to a Tip Calculator program.\n",
    "\n",
    "### Console:\n",
    "```powershell\n",
    "Tip Calculator\n",
    "\n",
    "INPUT\n",
    "Cost of meal: ten\n",
    "Must be valid decimal number. Please try again. \n",
    "Cost of meal: -10\n",
    "Must be greater than 0. Please try again. \n",
    "Cost of meal: 52.31\n",
    "Tip percent:\t17.5\n",
    "Must be valid integer. Please try again. \n",
    "Tip percent:\t20\n",
    "\n",
    "OUTPUT\n",
    "Cost of meal:   52.31 \n",
    "Tip percent:    20%\n",
    "Tip amount:     10.46\n",
    "Total amount:   62.77\n",
    "```\n",
    "\n",
    "### Specifications:\n",
    "- The program should accept **decimal** entries like 52.31 and 15.5 for the cost of the meal.\n",
    "- The program should accept **integer** entries like 15, 20, 25 for the tip percent.\n",
    "- The program should validate both user entries. That way, the user can’t crash the program by entering invalid data.\n",
    "- The program should only accept numbers that are **greater than 0**.\n",
    "- The program should round results to a maximum of two decimal places.\n"
   ]
  },
  {
   "cell_type": "code",
   "execution_count": 3,
   "metadata": {},
   "outputs": [
    {
     "name": "stdout",
     "output_type": "stream",
     "text": [
      "Tip Calculator\n",
      "\n",
      "INPUT\n"
     ]
    },
    {
     "name": "stdin",
     "output_type": "stream",
     "text": [
      "Cost of meal: ten\n"
     ]
    },
    {
     "name": "stdout",
     "output_type": "stream",
     "text": [
      "Must be valid decimal number. Please try again.\n"
     ]
    },
    {
     "name": "stdin",
     "output_type": "stream",
     "text": [
      "Cost of meal: 10.89\n",
      "Tip percent: 20.7\n"
     ]
    },
    {
     "name": "stdout",
     "output_type": "stream",
     "text": [
      "Must be valid integer. Please try again.\n"
     ]
    },
    {
     "name": "stdin",
     "output_type": "stream",
     "text": [
      "Tip percent: 20\n"
     ]
    },
    {
     "name": "stdout",
     "output_type": "stream",
     "text": [
      "\n",
      "OUTPUT\n",
      "Cost of meal: 10.89\n",
      "Tip percent: 20%\n",
      "Tip amount: 2.18\n",
      "Total amount: 13.07\n"
     ]
    }
   ],
   "source": [
    "def title():\n",
    "    print(\"Tip Calculator\")\n",
    "\n",
    "def my_input():\n",
    "    print(\"\\nINPUT\")\n",
    "    while True:\n",
    "        try:\n",
    "            cost = float(input(\"Cost of meal:\"))\n",
    "            if cost <= 0:\n",
    "                raise ValueError(\"Must be greater than 0. Please try again.\")\n",
    "            else:\n",
    "                break\n",
    "        except ValueError:\n",
    "            print(\"Must be valid decimal number. Please try again.\")\n",
    "                \n",
    "            \n",
    "    while True:\n",
    "        try:\n",
    "            tip = int(input(\"Tip percent:\"))\n",
    "            if tip <= 0:\n",
    "                raise ValueError(\"Tip percentage must be greater than 0. Please try again.\")\n",
    "            else:\n",
    "                break\n",
    "        except ValueError:\n",
    "            print(\"Must be valid integer. Please try again.\")\n",
    "        \n",
    "    return cost, tip\n",
    "\n",
    "def output(cost,tip):\n",
    "    tip_amt = cost * (tip/100)\n",
    "    total = tip_amt + cost\n",
    "\n",
    "    print(\"\\nOUTPUT\")\n",
    "    print(\"Cost of meal:\",cost)\n",
    "    print(\"Tip percent:\",tip,end=\"%\")\n",
    "    print(\"\\nTip amount:\",round(tip_amt,2))\n",
    "    print(\"Total amount:\",round(total,2))\n",
    "\n",
    "def main():\n",
    "    title()\n",
    "    cost,tip = my_input()\n",
    "    output(cost,tip)\n",
    "\n",
    "if __name__ == \"__main__\":\n",
    "    main()"
   ]
  },
  {
   "cell_type": "markdown",
   "metadata": {},
   "source": [
    "## 8.2 Wizard Inventory\n",
    "\n",
    "Add exception handling to a program that keeps track of the inventory of items that a wizard can carry. If you still have Wizard Inventory from Handson_5, you can add the exception handling to that program. Otherwise, you can start this program from scratch.\n",
    "\n",
    "### Console if the program can't find the **inventory** file:\n",
    "```powershell\n",
    "The Wizard Inventory program\n",
    "\n",
    "COMMAND MENU\n",
    "walk - Walk down the path \n",
    "show - Show all items \n",
    "drop - Drop an item\n",
    "exit - Exit program\n",
    "\n",
    "Could not find inventory file!\n",
    "Wizard is starting with no inventory.\n",
    "\n",
    "Command: walk\n",
    "While walking down a path, you see a crossbow.\n",
    "Do you want to grab it? (y/n): y\n",
    "You picked up a crossbow.\n",
    "\n",
    "Command: show\n",
    "1. a crossbow\n",
    "\n",
    "Command: drop Number: x\n",
    "Invalid item number.\n",
    "```\n",
    "\n",
    "### The error message if the program can’t find the **items** file:\n",
    "```powershell\n",
    "Could not find items file.\t\n",
    "Exiting program. Bye!\t\n",
    "```\n",
    "\n",
    "### Specifications:\n",
    "- This program should read the text file named `wizard_all_items.txt` that contains all the items a wizard can carry.\n",
    "- When the user selects the walk command, the program should randomly pick one of the items that were read from the text file and give the user the option to grab it.\n",
    "- The current items that the wizard is carrying should be saved in an inventory file. Make sure to update this file every time the user grabs or drops an item.\n",
    "- The wizard can only carry four items at a time. For the drop command, display an error message if the user enters an invalid integer or an integer that doesn’t correspond with an item.\n",
    "- Handle all exceptions that might occur so that the user can’t cause the program to crash. If the all items file is missing, display an appropriate error message and exit the program.\n",
    "- If the inventory file is missing, display an appropriate error message and continue with an empty inventory for the user. That way, the program will write a new inventory file when the user adds items to the inventory."
   ]
  },
  {
   "cell_type": "code",
   "execution_count": 7,
   "metadata": {},
   "outputs": [
    {
     "name": "stdout",
     "output_type": "stream",
     "text": [
      "The Wizard Inventory Program\n",
      "\n",
      "COMMAND MENU\n",
      "walk - Walk down the path\n",
      "show - Show all items\n",
      "drop - Drop an item\n",
      "exit - Exit program\n"
     ]
    },
    {
     "name": "stdin",
     "output_type": "stream",
     "text": [
      "\n",
      "Command: walk\n"
     ]
    },
    {
     "name": "stdout",
     "output_type": "stream",
     "text": [
      "While walking down a path, you see a scroll of uncursing.\n"
     ]
    },
    {
     "name": "stdin",
     "output_type": "stream",
     "text": [
      "Do you want to grab it? (y/n): y\n"
     ]
    },
    {
     "name": "stdout",
     "output_type": "stream",
     "text": [
      "You picked up a scroll of uncursing.\n"
     ]
    },
    {
     "name": "stdin",
     "output_type": "stream",
     "text": [
      "\n",
      "Command: walk\n"
     ]
    },
    {
     "name": "stdout",
     "output_type": "stream",
     "text": [
      "While walking down a path, you see an unknown potion.\n"
     ]
    },
    {
     "name": "stdin",
     "output_type": "stream",
     "text": [
      "Do you want to grab it? (y/n): edf\n"
     ]
    },
    {
     "name": "stdout",
     "output_type": "stream",
     "text": [
      "Invalid entry. Please try again.\n",
      "While walking down a path, you see an unknown potion.\n"
     ]
    },
    {
     "name": "stdin",
     "output_type": "stream",
     "text": [
      "Do you want to grab it? (y/n): y\n"
     ]
    },
    {
     "name": "stdout",
     "output_type": "stream",
     "text": [
      "You picked up an unknown potion.\n"
     ]
    },
    {
     "name": "stdin",
     "output_type": "stream",
     "text": [
      "\n",
      "Command: walk\n"
     ]
    },
    {
     "name": "stdout",
     "output_type": "stream",
     "text": [
      "While walking down a path, you see some elven bread.\n"
     ]
    },
    {
     "name": "stdin",
     "output_type": "stream",
     "text": [
      "Do you want to grab it? (y/n): n\n",
      "\n",
      "Command: show\n"
     ]
    },
    {
     "name": "stdout",
     "output_type": "stream",
     "text": [
      "1. a scroll of uncursing\n",
      "2. an unknown potion\n"
     ]
    },
    {
     "name": "stdin",
     "output_type": "stream",
     "text": [
      "\n",
      "Command: walp\n"
     ]
    },
    {
     "name": "stdout",
     "output_type": "stream",
     "text": [
      "Invalid entry. Choose option from Command Menu.\n"
     ]
    },
    {
     "name": "stdin",
     "output_type": "stream",
     "text": [
      "\n",
      "Command: drop\n",
      "Drop number: 5\n"
     ]
    },
    {
     "name": "stdout",
     "output_type": "stream",
     "text": [
      "Invalid number.\n"
     ]
    },
    {
     "name": "stdin",
     "output_type": "stream",
     "text": [
      "Drop number: 2\n"
     ]
    },
    {
     "name": "stdout",
     "output_type": "stream",
     "text": [
      "You dropped an unknown potion.\n"
     ]
    },
    {
     "name": "stdin",
     "output_type": "stream",
     "text": [
      "\n",
      "Command: show\n"
     ]
    },
    {
     "name": "stdout",
     "output_type": "stream",
     "text": [
      "1. a scroll of uncursing\n"
     ]
    },
    {
     "name": "stdin",
     "output_type": "stream",
     "text": [
      "\n",
      "Command: exib\n"
     ]
    },
    {
     "name": "stdout",
     "output_type": "stream",
     "text": [
      "Invalid entry. Choose option from Command Menu.\n"
     ]
    },
    {
     "name": "stdin",
     "output_type": "stream",
     "text": [
      "\n",
      "Command: exit\n"
     ]
    },
    {
     "name": "stdout",
     "output_type": "stream",
     "text": [
      "Bye!\n"
     ]
    }
   ],
   "source": [
    "import random\n",
    "my_items = []\n",
    "items = []\n",
    "\n",
    "def title():\n",
    "    print(\"The Wizard Inventory Program\\n\")\n",
    "\n",
    "def menu():\n",
    "    print(\"COMMAND MENU\")\n",
    "    print(\"walk - Walk down the path\")\n",
    "    print(\"show - Show all items\")\n",
    "    print(\"drop - Drop an item\")\n",
    "    print(\"exit - Exit program\")\n",
    "\n",
    "def walk():\n",
    "    try:\n",
    "        with open(\"wizard_all_items.txt\",\"r\") as inv:\n",
    "            for line in inv:\n",
    "                line = line.replace(\"\\n\", \"\")\n",
    "                items.append(line)\n",
    "    except FileNotFoundError:\n",
    "        print(\"Could not find items file.\\nExiting program.\")\n",
    "        exit()\n",
    "\n",
    "    new_item = random.choice(items)\n",
    "\n",
    "    while True:\n",
    "        try:\n",
    "            print(\"While walking down a path, you see \" + new_item + \".\")\n",
    "            choice = input(\"Do you want to grab it? (y/n):\")\n",
    "            if len(my_items) == 4 and choice.lower() == \"y\":\n",
    "                print(\"You can't carry any more items. Drop something first.\")\n",
    "                break\n",
    "            elif len(my_items) < 4 and choice.lower() == \"y\":\n",
    "                my_items.append(new_item)\n",
    "                print(\"You picked up \" + new_item + \".\")\n",
    "                break\n",
    "            elif choice.lower() == \"n\":\n",
    "                break\n",
    "            else:\n",
    "                raise Exception(\"Invalid entry. Please try again.\")\n",
    "        except:\n",
    "            print(\"Invalid entry. Please try again.\")\n",
    "            \n",
    "    while True:        \n",
    "        try:\n",
    "            with open(\"wizard_inventory.txt\", \"w\") as file:\n",
    "                for m in my_items:\n",
    "                    file.write(m + \"\\n\")\n",
    "            break\n",
    "        except FileNotFoundError:\n",
    "            print(\"Could not find items file.\\nExiting program.\")\n",
    "            exit()\n",
    "\n",
    "def show():\n",
    "    for i in range(1,len(my_items)+1):\n",
    "        print(str(i) + \". \" + my_items[i-1])\n",
    "\n",
    "def drop():\n",
    "    while True:\n",
    "        try:\n",
    "            drop_num = int(input(\"Drop number:\"))\n",
    "\n",
    "            if drop_num in range(1,len(my_items)+1):\n",
    "                print(\"You dropped \" + my_items[drop_num -1] + \".\")\n",
    "                my_items.pop(drop_num -1)\n",
    "                with open(\"wizard_inventory.txt\", \"w\") as file:\n",
    "                    for m in my_items:\n",
    "                        file.write(m + \"\\n\")\n",
    "                break\n",
    "            else:\n",
    "                raise ValueError(\"Invalid number.\")\n",
    "        except ValueError as d:\n",
    "            print(d)\n",
    "\n",
    "def exit():\n",
    "    print(\"Bye!\")\n",
    "\n",
    "def main():\n",
    "    title()\n",
    "    menu()\n",
    "\n",
    "    while True:\n",
    "        try:\n",
    "            comm = input(\"\\nCommand:\")\n",
    "            if comm == \"walk\":\n",
    "                walk()\n",
    "            elif comm == \"show\":\n",
    "                show()\n",
    "            elif comm == \"drop\":\n",
    "                drop() \n",
    "            elif comm == \"exit\":\n",
    "                exit()\n",
    "                break\n",
    "            else:\n",
    "                raise ValueError(\"Invalid entry. Choose option from Command Menu.\")\n",
    "        except ValueError as e:\n",
    "            print(e)\n",
    "                   \n",
    "if __name__ == \"__main__\":\n",
    "    main()"
   ]
  },
  {
   "cell_type": "code",
   "execution_count": null,
   "metadata": {},
   "outputs": [],
   "source": []
  }
 ],
 "metadata": {
  "kernelspec": {
   "display_name": "Python 3 (ipykernel)",
   "language": "python",
   "name": "python3"
  },
  "language_info": {
   "codemirror_mode": {
    "name": "ipython",
    "version": 3
   },
   "file_extension": ".py",
   "mimetype": "text/x-python",
   "name": "python",
   "nbconvert_exporter": "python",
   "pygments_lexer": "ipython3",
   "version": "3.11.7"
  }
 },
 "nbformat": 4,
 "nbformat_minor": 4
}

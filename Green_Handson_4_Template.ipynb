{
 "cells": [
  {
   "cell_type": "markdown",
   "metadata": {},
   "source": [
    "# List and Tuples\n",
    "\n",
    "To submit this assignment in D2l, post the link to your notebook file on your GitHub account."
   ]
  },
  {
   "cell_type": "markdown",
   "metadata": {},
   "source": [
    "## 6.1 Prime Number Checker\n",
    "Create a program that checks whether a number is a prime number and displays its factors if it is not a prime number.\n",
    "\n",
    "### Console:\n",
    "```powershell\n",
    "Prime Number Checker\n",
    "\n",
    "Please enter an integer between 1 and 5000: 5\n",
    "5 is a prime number.\n",
    "\n",
    "Try again? (y/n): y\n",
    "\n",
    "Please enter an integer between 1 and 5000: 6\n",
    "6 is NOT a prime number.\n",
    "It has 4 factors: 1 2 3 6\n",
    "\n",
    "Try again? (y/n): y\n",
    "\n",
    "Please enter an integer between 1 and 5000: 200\n",
    "200 is NOT a prime number.\n",
    "It has 12 factors: 1 2 4 5 8 10 20 25 40 50 100 200\n",
    "\n",
    "Try again? (y/n): n\n",
    "\n",
    "Bye!\n",
    "```\n",
    "\n",
    "### Specifications:\n",
    "- A prime number is divisible by two factors (1 and itself). For example, 7 is a prime number because it is only divisible by 1 and 7.\n",
    "- If the user enters an integer that's not between 1 and 5000, the program should display an error message.\n",
    "- If the number is a prime number, the program should display a message.\n",
    "If the number is not a prime number, the program should display a message. Then, it should display the number of factors for the number and a list of those factors.\n",
    "- Store the factors for each number in a list.\n",
    "- Use functions to organize the code for this program.\n"
   ]
  },
  {
   "cell_type": "code",
   "execution_count": 19,
   "metadata": {},
   "outputs": [
    {
     "name": "stdout",
     "output_type": "stream",
     "text": [
      "Prime Number Checker\n"
     ]
    },
    {
     "name": "stdin",
     "output_type": "stream",
     "text": [
      "\n",
      "Please enter an integer between 1 and 5000: 5\n"
     ]
    },
    {
     "name": "stdout",
     "output_type": "stream",
     "text": [
      "5 is a prime number.\n"
     ]
    },
    {
     "name": "stdin",
     "output_type": "stream",
     "text": [
      "\n",
      "Try again? (y/n): y\n",
      "\n",
      "Please enter an integer between 1 and 5000: 6\n"
     ]
    },
    {
     "name": "stdout",
     "output_type": "stream",
     "text": [
      "6 is NOT a prime number.\n",
      "It has 4 factors: 1 2 3 6\n"
     ]
    },
    {
     "name": "stdin",
     "output_type": "stream",
     "text": [
      "\n",
      "Try again? (y/n): y\n",
      "\n",
      "Please enter an integer between 1 and 5000: 200\n"
     ]
    },
    {
     "name": "stdout",
     "output_type": "stream",
     "text": [
      "200 is NOT a prime number.\n",
      "It has 12 factors: 1 2 4 5 8 10 20 25 40 50 100 200\n"
     ]
    },
    {
     "name": "stdin",
     "output_type": "stream",
     "text": [
      "\n",
      "Try again? (y/n): n\n"
     ]
    },
    {
     "name": "stdout",
     "output_type": "stream",
     "text": [
      "\n",
      "Bye!\n"
     ]
    }
   ],
   "source": [
    "def title():\n",
    "    print(\"Prime Number Checker\")\n",
    "\n",
    "def valid(num):\n",
    "    if num in range(2,5000):\n",
    "        return True\n",
    "    else:\n",
    "        print(\"Invalid integer. Please try again.\")\n",
    "        return False\n",
    "\n",
    "def factor_count(num):\n",
    "    count = 0\n",
    "    for i in range(1,num+1):\n",
    "        if num % i == 0:\n",
    "            count +=1\n",
    "    return count\n",
    "\n",
    "def factors(num):\n",
    "    my_factors = []\n",
    "    for j in range(1,num+1):\n",
    "        if num % j == 0:\n",
    "            my_factors.append(j)\n",
    "    return my_factors\n",
    "\n",
    "def main():\n",
    "    choice = \"y\"\n",
    "    title()\n",
    "\n",
    "    while choice == \"y\" or choice.lower() == \"Y\":\n",
    "        num = int(input(\"\\nPlease enter an integer between 1 and 5000:\"))\n",
    "\n",
    "        if not valid(num):\n",
    "            continue\n",
    "\n",
    "        my_count = factor_count(num)\n",
    "        my_factors = factors(num) \n",
    "\n",
    "        if my_count == 2:\n",
    "            print(num,\"is a prime number.\")\n",
    "        else:\n",
    "            print(num,\"is NOT a prime number.\")\n",
    "            print(\"It has\",my_count,\"factors:\",*my_factors)\n",
    "\n",
    "        choice = input(\"\\nTry again? (y/n):\")\n",
    "        if choice.lower() ==\"n\":\n",
    "            print(\"\\nBye!\")\n",
    "\n",
    "if __name__ == \"__main__\":\n",
    "    main()"
   ]
  },
  {
   "cell_type": "markdown",
   "metadata": {},
   "source": [
    "## 6.2 - Contact Manager\n",
    "Create a program that a user can use to manage the primary email address and phone number for a contact.\n",
    "\n",
    "### Console\n",
    "```powershell\n",
    "Contact Manager\n",
    "\n",
    "COMMAND MENU\n",
    "list - Display all contacts\n",
    "view - View a contact\n",
    "add - Add a contact\n",
    "del - Delete a contact\n",
    "exit - Exit program\n",
    "\n",
    "Command: list\n",
    "1. Guido van Rossum\n",
    "2. Eric Idle\n",
    "\n",
    "Command: view\n",
    "Number: 2\n",
    "Name: Eric Idle\n",
    "Email: eric@ericidle.com\n",
    "Phone: +44 20 7946 0958\n",
    "\n",
    "Command: add\n",
    "Name: Mike Murach\n",
    "Email: mike@murach.com\n",
    "Phone: 559-123-4567\n",
    "Mike Murach was added.\n",
    "\n",
    "Command: del\n",
    "Number: 1\n",
    "Guido van Rossum was deleted.\n",
    "\n",
    "Command: list\n",
    "1. Eric Idle\n",
    "2. Mike Murach\n",
    "\n",
    "Command: exit\n",
    "Bye!\n",
    "```\n",
    "\n",
    "### Specifications:\n",
    "- Use a list of lists to store the data for the contacts. Provide starting data for two or more contacts.\n",
    "- For the `view` and `del` commands, display an error message if the user enters and invalid contact number.\n",
    "- When you exit the program, all changes that you made to the contact list are lost.\n",
    "\n",
    "\n"
   ]
  },
  {
   "cell_type": "code",
   "execution_count": 7,
   "metadata": {},
   "outputs": [
    {
     "name": "stdout",
     "output_type": "stream",
     "text": [
      "Contact Manager\n",
      "\n",
      "COMMAND MENU\n",
      "list - Display all contacts\n",
      "view - View a contact\n",
      "add - Add a contact\n",
      "del - Delete a contact\n",
      "exit - Exit program\n"
     ]
    },
    {
     "name": "stdin",
     "output_type": "stream",
     "text": [
      "\n",
      "Command: list\n"
     ]
    },
    {
     "name": "stdout",
     "output_type": "stream",
     "text": [
      "1. Guido van Rossum\n",
      "2. Mike Murach\n"
     ]
    },
    {
     "name": "stdin",
     "output_type": "stream",
     "text": [
      "\n",
      "Command: view\n",
      "Number: 2\n"
     ]
    },
    {
     "name": "stdout",
     "output_type": "stream",
     "text": [
      "Name: Mike Murach\n",
      "Email: mike@murach.com\n",
      "Phone: 559-123-4567\n"
     ]
    },
    {
     "name": "stdin",
     "output_type": "stream",
     "text": [
      "\n",
      "Command: add\n",
      "Name: Peyton\n",
      "Email: pey@me.com\n",
      "Phone: 234-345-4566\n"
     ]
    },
    {
     "name": "stdout",
     "output_type": "stream",
     "text": [
      "Peyton was added.\n"
     ]
    },
    {
     "name": "stdin",
     "output_type": "stream",
     "text": [
      "\n",
      "Command: list\n"
     ]
    },
    {
     "name": "stdout",
     "output_type": "stream",
     "text": [
      "1. Guido van Rossum\n",
      "2. Mike Murach\n",
      "3. Peyton\n"
     ]
    },
    {
     "name": "stdin",
     "output_type": "stream",
     "text": [
      "\n",
      "Command: del\n",
      "Number: 3\n"
     ]
    },
    {
     "name": "stdout",
     "output_type": "stream",
     "text": [
      "Peyton was deleted.\n"
     ]
    },
    {
     "name": "stdin",
     "output_type": "stream",
     "text": [
      "\n",
      "Command: list\n"
     ]
    },
    {
     "name": "stdout",
     "output_type": "stream",
     "text": [
      "1. Guido van Rossum\n",
      "2. Mike Murach\n"
     ]
    },
    {
     "name": "stdin",
     "output_type": "stream",
     "text": [
      "\n",
      "Command: exit\n"
     ]
    },
    {
     "name": "stdout",
     "output_type": "stream",
     "text": [
      "Bye!\n"
     ]
    }
   ],
   "source": [
    "contacts = [[\"Guido van Rossum\", \"guido@vanrossum.com\", \"724-656-9577\"],\n",
    "            [\"Mike Murach\", \"mike@murach.com\", \"559-123-4567\"]]\n",
    "\n",
    "def title():\n",
    "    print(\"Contact Manager\\n\")\n",
    "\n",
    "def menu():\n",
    "    print(\"COMMAND MENU\")\n",
    "    print(\"list - Display all contacts\")\n",
    "    print(\"view - View a contact\")\n",
    "    print(\"add - Add a contact\")\n",
    "    print(\"del - Delete a contact\")\n",
    "    print(\"exit - Exit program\")\n",
    "\n",
    "def list():\n",
    "    for i in range(1,len(contacts)+1):\n",
    "        print(str(i) + \". \" + contacts[i-1][0])\n",
    "\n",
    "def view():\n",
    "    number = int(input(\"Number:\"))\n",
    "    \n",
    "    if number in range(1,len(contacts)+1):\n",
    "        print(\"Name:\",contacts[number-1][0])\n",
    "        print(\"Email:\",contacts[number-1][1])\n",
    "        print(\"Phone:\",contacts[number-1][2])\n",
    "    else:\n",
    "        print(\"Invalid number.\")\n",
    "\n",
    "def add():\n",
    "    name = input(\"Name:\")\n",
    "    email = input(\"Email:\")\n",
    "    phone = input(\"Phone:\")\n",
    "\n",
    "    new = [name, email, phone]\n",
    "\n",
    "    contacts.insert(len(contacts), new)\n",
    "\n",
    "    print(name, \"was added.\")\n",
    "\n",
    "def delete():\n",
    "    number = int(input(\"Number:\"))\n",
    "\n",
    "    if number in range(1,len(contacts)+1):\n",
    "        num = [contacts[number-1][0],contacts[number-1][1],contacts[number-1][2]]\n",
    "        print(contacts[number-1][0],\"was deleted.\")\n",
    "        contacts.remove(num)\n",
    "    else:\n",
    "        print(\"Invalid number.\")\n",
    "\n",
    "def exit():\n",
    "    print(\"Bye!\")\n",
    "\n",
    "def main():\n",
    "    title()\n",
    "    menu()\n",
    "\n",
    "    while True:\n",
    "        choice = input(\"\\nCommand:\")\n",
    "        if choice == \"list\":\n",
    "            list()\n",
    "        elif choice == \"view\":\n",
    "            view() \n",
    "        elif choice == \"add\":\n",
    "            add()\n",
    "        elif choice == \"del\":\n",
    "            delete()\n",
    "        if choice == \"exit\":\n",
    "            exit()\n",
    "            break\n",
    "\n",
    "if __name__ == \"__main__\":\n",
    "    main()"
   ]
  },
  {
   "cell_type": "code",
   "execution_count": null,
   "metadata": {},
   "outputs": [],
   "source": []
  }
 ],
 "metadata": {
  "kernelspec": {
   "display_name": "Python 3 (ipykernel)",
   "language": "python",
   "name": "python3"
  },
  "language_info": {
   "codemirror_mode": {
    "name": "ipython",
    "version": 3
   },
   "file_extension": ".py",
   "mimetype": "text/x-python",
   "name": "python",
   "nbconvert_exporter": "python",
   "pygments_lexer": "ipython3",
   "version": "3.12.4"
  }
 },
 "nbformat": 4,
 "nbformat_minor": 4
}

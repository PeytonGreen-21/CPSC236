{
 "cells": [
  {
   "cell_type": "markdown",
   "metadata": {},
   "source": [
    "# Chapter 2 - How to write your first program"
   ]
  },
  {
   "cell_type": "markdown",
   "metadata": {},
   "source": [
    "## 2.1 Student Registration\n",
    "Create a program that allows a student to complete a registration form and displays a completion message that includes the user’s full name and a temporary password.\n",
    "\n",
    "### Console:\n",
    "```powershell\n",
    "Registration Form\n",
    "\n",
    "First Name: Eric\n",
    "Last Name: Idle\n",
    "Birth Year: 1934\n",
    "\n",
    "Welcome Eric Idle!\n",
    "Your registration is complete!\n",
    "Your temporary password is: Eric*1934\n",
    "```\n",
    "\n",
    "### Specifications:\n",
    "- The user’s full name consists of the user’s first name, a space, and the user’s last name.\n",
    "- The temporary password consists of the user’s first name, an asterisk (*), and the user’s birth year.\n",
    "- Assume the user will enter valid data.\n"
   ]
  },
  {
   "cell_type": "code",
   "execution_count": 1,
   "metadata": {},
   "outputs": [
    {
     "name": "stdin",
     "output_type": "stream",
     "text": [
      "Please enter your first name: Peyton\n",
      "Please enter your last name: Green\n",
      "Please enter your birth year: 2003\n"
     ]
    },
    {
     "name": "stdout",
     "output_type": "stream",
     "text": [
      "\n",
      "Registration Form\n",
      "\n",
      "First Name: Peyton\n",
      "Last Name: Green\n",
      "Birth Year: 2003\n",
      "\n",
      "Welcome Peyton Green!\n",
      "Your registration is complete!\n",
      "Your temporary password is: Peyton*2003\n"
     ]
    }
   ],
   "source": [
    "first = input(\"Please enter your first name:\")\n",
    "last = input(\"Please enter your last name:\")\n",
    "birth = input(\"Please enter your birth year:\")\n",
    "temp_pass = first + \"*\" + birth\n",
    "\n",
    "print(\"\\nRegistration Form\\n\")\n",
    "\n",
    "print(\"First Name:\",first)\n",
    "print(\"Last Name:\",last)\n",
    "print(\"Birth Year:\",birth)\n",
    "\n",
    "print(\"\\nWelcome\",first,last,end = \"!\")\n",
    "print(\"\\nYour registration is complete!\")\n",
    "print(\"Your temporary password is:\", temp_pass)"
   ]
  },
  {
   "cell_type": "markdown",
   "metadata": {},
   "source": [
    "## 2.2 - Pay Check Calculator\n",
    "Create a program that calculates a user’s weekly gross and take-home pay.\n",
    "\n",
    "### Console\n",
    "```powershell\n",
    "Pay Check Calculator\n",
    "\n",
    "Hours Worked: 35\n",
    "Hourly Pay Rate: 14.50\n",
    "\n",
    "Gross Pay: 507.5\n",
    "Tax Rate: 18%\n",
    "Tax Amount: 91.35\n",
    "Take Home Pay: 416.15\n",
    "```\n",
    "\n",
    "### Specifications:\n",
    "- The formula for calculating gross pay is:\n",
    "`gross pay = hours worked * hourly rate`\n",
    "- The formula for calculating tax amount is:\n",
    "`tax amount = gross pay * (tax rate / 100)`\n",
    "- The formula for calculating take home pay is:\n",
    "`take home pay = gross pay – tax amount`\n",
    "- The tax rate should be 18%, but the program should store the tax rate in a variable so that you can easily change the tax rate later, just by changing the value that’s stored in the variable.\n",
    "- The program should accept decimal entries like 35.5 and 14.25.\n",
    "- Assume the user will enter valid data.\n",
    "- The program should round the results to a maximum of two decimal places.\n"
   ]
  },
  {
   "cell_type": "code",
   "execution_count": 6,
   "metadata": {},
   "outputs": [
    {
     "name": "stdin",
     "output_type": "stream",
     "text": [
      "Please enter how many hours you worked: 35\n",
      "Please enter your hourly pay rate: 14.50\n"
     ]
    },
    {
     "name": "stdout",
     "output_type": "stream",
     "text": [
      "\n",
      "Pay Check Calculator\n",
      "\n",
      "Hours Worked: 35\n",
      "Hourly Pay Rate: 14.5\n",
      "\n",
      "Gross Pay: 507.5\n",
      "\n",
      "Tax Rate: 18%\n",
      "Tax Amount: 91.35\n",
      "Take Home Pay: 416.15\n"
     ]
    }
   ],
   "source": [
    "hours = int(input(\"Please enter how many hours you worked:\"))\n",
    "pay_rate = float(input(\"Please enter your hourly pay rate:\"))\n",
    "\n",
    "TAX_RATE = 18\n",
    "\n",
    "gross_pay = hours * pay_rate\n",
    "tax_amount = gross_pay * (TAX_RATE / 100)\n",
    "take_home = gross_pay - tax_amount\n",
    "\n",
    "print(\"\\nPay Check Calculator\\n\")\n",
    "\n",
    "print(\"Hours Worked:\",hours)\n",
    "print(\"Hourly Pay Rate:\",pay_rate)\n",
    "\n",
    "print(\"\\nGross Pay:\",round(gross_pay,2))\n",
    "print(\"\\nTax Rate:\", TAX_RATE,end=\"%\")\n",
    "print(\"\\nTax Amount:\",round(tax_amount,2))\n",
    "print(\"Take Home Pay:\",round(take_home,2))\n"
   ]
  },
  {
   "cell_type": "markdown",
   "metadata": {},
   "source": [
    "## 2.3 - Travel Time Calculator\n",
    "Create a program that calculates the estimated hours and minutes for a trip.\n",
    "\n",
    "### Console\n",
    "```powershell\n",
    "Travel Time Calculator\n",
    "\n",
    "Enter Miles: 200\n",
    "Enter Miles per Hour: 65\n",
    "\n",
    "Estimated Travel Time\n",
    "Hours: 3\n",
    "Minutes: 5\n",
    "```\n",
    "\n",
    "### Specifications\n",
    "- The program should only accept integer entries like 200 and 65.\n",
    "- Assume that the user will enter valid data.\n",
    "\n",
    "### Hint\n",
    "- Use integers with the integer division and modulus operators to get hours and minutes."
   ]
  },
  {
   "cell_type": "code",
   "execution_count": 19,
   "metadata": {},
   "outputs": [
    {
     "name": "stdout",
     "output_type": "stream",
     "text": [
      "Enter Miles:500\n",
      "Enter Miles per Hour:35\n",
      "\n",
      "Travel Time Calculator\n",
      "\n",
      "Estimated Travel Time\n",
      "Hours: 14 \n",
      "Minutes: 17\n"
     ]
    }
   ],
   "source": [
    "miles = int(input(\"Enter Miles:\"))\n",
    "speed = int(input(\"Enter Miles per Hour:\"))\n",
    "\n",
    "\n",
    "hours = miles // speed\n",
    "hours_float = miles / speed\n",
    "minutes = int(round((hours_float - hours)*60,0))\n",
    "\n",
    "print(\"\\nTravel Time Calculator\")\n",
    "\n",
    "print(\"\\nEstimated Travel Time\")\n",
    "\n",
    "print(\"Hours:\",hours,\"\\nMinutes:\", minutes)"
   ]
  },
  {
   "cell_type": "code",
   "execution_count": null,
   "metadata": {},
   "outputs": [],
   "source": []
  }
 ],
 "metadata": {
  "kernelspec": {
   "display_name": "Python 3 (ipykernel)",
   "language": "python",
   "name": "python3"
  },
  "language_info": {
   "codemirror_mode": {
    "name": "ipython",
    "version": 3
   },
   "file_extension": ".py",
   "mimetype": "text/x-python",
   "name": "python",
   "nbconvert_exporter": "python",
   "pygments_lexer": "ipython3",
   "version": "3.11.8"
  }
 },
 "nbformat": 4,
 "nbformat_minor": 4
}
